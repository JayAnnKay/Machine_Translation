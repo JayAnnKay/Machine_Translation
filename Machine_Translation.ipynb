{
  "nbformat": 4,
  "nbformat_minor": 0,
  "metadata": {
    "kernelspec": {
      "name": "python3",
      "display_name": "Python 3"
    },
    "language_info": {
      "codemirror_mode": {
        "name": "ipython",
        "version": 3
      },
      "file_extension": ".py",
      "mimetype": "text/x-python",
      "name": "python",
      "nbconvert_exporter": "python",
      "pygments_lexer": "ipython3",
      "version": "3.6.6"
    },
    "colab": {
      "name": "Machine_Translation.ipynb",
      "version": "0.3.2",
      "provenance": [],
      "include_colab_link": true
    },
    "accelerator": "TPU"
  },
  "cells": [
    {
      "cell_type": "markdown",
      "metadata": {
        "id": "view-in-github",
        "colab_type": "text"
      },
      "source": [
        "<a href=\"https://colab.research.google.com/github/JayAnnKay/Machine_Translation/blob/master/Machine_Translation.ipynb\" target=\"_parent\"><img src=\"https://colab.research.google.com/assets/colab-badge.svg\" alt=\"Open In Colab\"/></a>"
      ]
    },
    {
      "cell_type": "markdown",
      "metadata": {
        "id": "bWh4tLPTjglh",
        "colab_type": "text"
      },
      "source": [
        "# Machine Translation\n",
        "\n",
        "## Introduction\n",
        "In this script, we attempt at translating German sequences to English using two RNNs.\n",
        "\n",
        "Data source : http://www.manythings.org/anki/ \n",
        "\n",
        "The website contains a lot of sentence pair datasets.\n",
        "\n",
        "# Summary \n",
        "------------------\n",
        "\n",
        "# Data Preprocessing \n",
        "------------"
      ]
    },
    {
      "cell_type": "code",
      "metadata": {
        "id": "5SRZWaKNjglk",
        "colab_type": "code",
        "colab": {}
      },
      "source": [
        "import string\n",
        "import re\n",
        "from pickle import dump\n",
        "from unicodedata import normalize\n",
        "from numpy import array\n",
        "from numpy import argmax"
      ],
      "execution_count": 0,
      "outputs": []
    },
    {
      "cell_type": "code",
      "metadata": {
        "id": "xYK9phODjglq",
        "colab_type": "code",
        "colab": {}
      },
      "source": [
        "# import zipfile \n",
        "# zip = zipfile.ZipFile('deu-eng.zip')\n",
        "# zip.extractall()"
      ],
      "execution_count": 0,
      "outputs": []
    },
    {
      "cell_type": "code",
      "metadata": {
        "id": "AwKmulmSkQxX",
        "colab_type": "code",
        "colab": {}
      },
      "source": [
        "from google.colab import files\n"
      ],
      "execution_count": 0,
      "outputs": []
    },
    {
      "cell_type": "code",
      "metadata": {
        "id": "MuHSTwPnkUCS",
        "colab_type": "code",
        "colab": {
          "resources": {
            "http://localhost:8080/nbextensions/google.colab/files.js": {
              "data": "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",
              "ok": true,
              "headers": [
                [
                  "content-type",
                  "application/javascript"
                ]
              ],
              "status": 200,
              "status_text": ""
            }
          },
          "base_uri": "https://localhost:8080/",
          "height": 74
        },
        "outputId": "25f8ece8-b766-41d9-a6a8-d84c3c81dd33"
      },
      "source": [
        "uploaded = files.upload()"
      ],
      "execution_count": 4,
      "outputs": [
        {
          "output_type": "display_data",
          "data": {
            "text/html": [
              "\n",
              "     <input type=\"file\" id=\"files-d215c0ae-f9db-4d4b-8cb7-e23c8f712ab8\" name=\"files[]\" multiple disabled />\n",
              "     <output id=\"result-d215c0ae-f9db-4d4b-8cb7-e23c8f712ab8\">\n",
              "      Upload widget is only available when the cell has been executed in the\n",
              "      current browser session. Please rerun this cell to enable.\n",
              "      </output>\n",
              "      <script src=\"/nbextensions/google.colab/files.js\"></script> "
            ],
            "text/plain": [
              "<IPython.core.display.HTML object>"
            ]
          },
          "metadata": {
            "tags": []
          }
        },
        {
          "output_type": "stream",
          "text": [
            "Saving deu.txt to deu.txt\n"
          ],
          "name": "stdout"
        }
      ]
    },
    {
      "cell_type": "code",
      "metadata": {
        "id": "PePlMfplkUck",
        "colab_type": "code",
        "colab": {}
      },
      "source": [
        "# files.download('deu.txt')"
      ],
      "execution_count": 0,
      "outputs": []
    },
    {
      "cell_type": "code",
      "metadata": {
        "id": "jCtUX7oTjglv",
        "colab_type": "code",
        "colab": {}
      },
      "source": [
        "#We load the data in a way that it preserves the Unicode German characters.\n",
        "\n",
        "def load_doc(filename):\n",
        "    file = open(filename, mode ='rt') #mode - read text\n",
        "    text = file.read() #read-only\n",
        "    file.close()\n",
        "    return text"
      ],
      "execution_count": 0,
      "outputs": []
    },
    {
      "cell_type": "code",
      "metadata": {
        "id": "vL-yd5VUjglz",
        "colab_type": "code",
        "colab": {}
      },
      "source": [
        "# Each line contains a pair of English, German phrase. They are separated by a tab character.\n",
        "#We remove the whitespace and first split the text by line and then by phrase\n",
        "\n",
        "def to_pairs(doc):\n",
        "    lines = doc.strip().split('\\n')\n",
        "    pairs = [line.split('\\t') for line in lines]\n",
        "    return pairs"
      ],
      "execution_count": 0,
      "outputs": []
    },
    {
      "cell_type": "markdown",
      "metadata": {
        "id": "0FJMMW84jgl2",
        "colab_type": "text"
      },
      "source": [
        "### Data Cleaning"
      ]
    },
    {
      "cell_type": "code",
      "metadata": {
        "id": "Tm0jzy86jgl3",
        "colab_type": "code",
        "colab": {}
      },
      "source": [
        "# We create a function that will perform the ollowing cleaning operations ~\n",
        "\n",
        "# Remove all non-printable characters.\n",
        "# Remove all punctuation characters.\n",
        "# Normalize all Unicode characters to ASCII (e.g. Latin characters).\n",
        "# Normalize the case to lowercase.\n",
        "# Remove any remaining tokens that are not alphabetic.\n",
        "\n"
      ],
      "execution_count": 0,
      "outputs": []
    },
    {
      "cell_type": "code",
      "metadata": {
        "id": "CyZ2bRRhjgl7",
        "colab_type": "code",
        "colab": {}
      },
      "source": [
        "def clean_pairs(lines):\n",
        "    cleaned = list()\n",
        "    # prepare regular expression to remove non printable char\n",
        "    re_char = re.compile('[^%s]' % re.escape(string.printable))\n",
        "    # translation table for removing punctuation\n",
        "    table = str.maketrans('', '', string.punctuation)\n",
        "    for pair in lines:\n",
        "        clean_pair = list()\n",
        "        for line in pair:\n",
        "            # normalize unicode characters to remove accents, umlauts etc.\n",
        "            line = normalize('NFD', line).encode('ascii', 'ignore')\n",
        "            line = line.decode('UTF-8')\n",
        "            \n",
        "            line = line.split()\n",
        "            # convert to lowercase\n",
        "            line = [word.lower() for word in line]\n",
        "            # remove punctuation from each item\n",
        "            line = [word.translate(table) for word in line]\n",
        "            # remove non-printable chars form each item\n",
        "            line = [re_char.sub('', w) for w in line]\n",
        "            # remove items with numbers in them\n",
        "            line = [word for word in line if word.isalpha()]\n",
        "            # store as string\n",
        "            clean_pair.append(' '.join(line))\n",
        "        cleaned.append(clean_pair)\n",
        "    return array(cleaned)"
      ],
      "execution_count": 0,
      "outputs": []
    },
    {
      "cell_type": "code",
      "metadata": {
        "id": "lBNdR28ejgl-",
        "colab_type": "code",
        "colab": {}
      },
      "source": [
        "# save a list of clean sentences to file ready for use using pickel module\n",
        "def save_clean_data(sentences, filename):\n",
        "    dump(sentences, open(filename, 'wb'))\n",
        "    print('Saved: %s' % filename)"
      ],
      "execution_count": 0,
      "outputs": []
    },
    {
      "cell_type": "code",
      "metadata": {
        "id": "Gp5Qau97jgmC",
        "colab_type": "code",
        "outputId": "81adc733-18cb-420a-9180-36342732d2e0",
        "colab": {
          "base_uri": "https://localhost:8080/",
          "height": 1000
        }
      },
      "source": [
        "#load dataset \n",
        "filename = 'deu.txt'\n",
        "doc = load_doc(filename)\n",
        "\n",
        "pairs = to_pairs(doc)\n",
        "\n",
        "clean_pairs = clean_pairs(pairs)\n",
        "\n",
        "save_clean_data(clean_pairs, 'english-german.pkl')\n",
        "\n",
        "for i in range(100):\n",
        "    print('[%s] => [%s]' % (clean_pairs[i,0], clean_pairs[i,1]))"
      ],
      "execution_count": 10,
      "outputs": [
        {
          "output_type": "stream",
          "text": [
            "Saved: english-german.pkl\n",
            "[hi] => [hallo]\n",
            "[hi] => [gru gott]\n",
            "[run] => [lauf]\n",
            "[wow] => [potzdonner]\n",
            "[wow] => [donnerwetter]\n",
            "[fire] => [feuer]\n",
            "[help] => [hilfe]\n",
            "[help] => [zu hulf]\n",
            "[stop] => [stopp]\n",
            "[wait] => [warte]\n",
            "[go on] => [mach weiter]\n",
            "[hello] => [hallo]\n",
            "[i ran] => [ich rannte]\n",
            "[i see] => [ich verstehe]\n",
            "[i see] => [aha]\n",
            "[i try] => [ich probiere es]\n",
            "[i won] => [ich hab gewonnen]\n",
            "[i won] => [ich habe gewonnen]\n",
            "[smile] => [lacheln]\n",
            "[cheers] => [zum wohl]\n",
            "[freeze] => [keine bewegung]\n",
            "[freeze] => [stehenbleiben]\n",
            "[got it] => [kapiert]\n",
            "[got it] => [verstanden]\n",
            "[got it] => [einverstanden]\n",
            "[he ran] => [er rannte]\n",
            "[he ran] => [er lief]\n",
            "[hop in] => [mach mit]\n",
            "[hug me] => [druck mich]\n",
            "[hug me] => [nimm mich in den arm]\n",
            "[hug me] => [umarme mich]\n",
            "[i fell] => [ich fiel]\n",
            "[i fell] => [ich fiel hin]\n",
            "[i fell] => [ich sturzte]\n",
            "[i fell] => [ich bin hingefallen]\n",
            "[i fell] => [ich bin gesturzt]\n",
            "[i know] => [ich wei]\n",
            "[i lied] => [ich habe gelogen]\n",
            "[i lost] => [ich habe verloren]\n",
            "[i paid] => [ich habe bezahlt]\n",
            "[i paid] => [ich zahlte]\n",
            "[i sang] => [ich sang]\n",
            "[i swim] => [ich schwimme]\n",
            "[im] => [ich bin jahre alt]\n",
            "[im] => [ich bin]\n",
            "[im ok] => [mir gehts gut]\n",
            "[im ok] => [es geht mir gut]\n",
            "[im up] => [ich bin wach]\n",
            "[im up] => [ich bin auf]\n",
            "[no way] => [unmoglich]\n",
            "[no way] => [das kommt nicht in frage]\n",
            "[no way] => [das gibts doch nicht]\n",
            "[no way] => [ausgeschlossen]\n",
            "[no way] => [in keinster weise]\n",
            "[really] => [wirklich]\n",
            "[really] => [echt]\n",
            "[really] => [im ernst]\n",
            "[thanks] => [danke]\n",
            "[try it] => [versuchs]\n",
            "[we won] => [wir haben gewonnen]\n",
            "[why me] => [warum ich]\n",
            "[ask tom] => [frag tom]\n",
            "[ask tom] => [fragen sie tom]\n",
            "[ask tom] => [fragt tom]\n",
            "[awesome] => [fantastisch]\n",
            "[be cool] => [entspann dich]\n",
            "[be fair] => [sei nicht ungerecht]\n",
            "[be fair] => [sei fair]\n",
            "[be nice] => [sei nett]\n",
            "[be nice] => [seien sie nett]\n",
            "[beat it] => [geh weg]\n",
            "[beat it] => [hau ab]\n",
            "[beat it] => [verschwinde]\n",
            "[beat it] => [verdufte]\n",
            "[beat it] => [mach dich fort]\n",
            "[beat it] => [zieh leine]\n",
            "[beat it] => [mach dich vom acker]\n",
            "[beat it] => [verzieh dich]\n",
            "[beat it] => [verkrumele dich]\n",
            "[beat it] => [troll dich]\n",
            "[beat it] => [zisch ab]\n",
            "[beat it] => [pack dich]\n",
            "[beat it] => [mach ne fliege]\n",
            "[beat it] => [schwirr ab]\n",
            "[beat it] => [mach die sause]\n",
            "[beat it] => [scher dich weg]\n",
            "[beat it] => [scher dich fort]\n",
            "[call me] => [ruf mich an]\n",
            "[come in] => [komm herein]\n",
            "[come in] => [herein]\n",
            "[come on] => [komm]\n",
            "[come on] => [kommt]\n",
            "[come on] => [mach schon]\n",
            "[come on] => [macht schon]\n",
            "[come on] => [komm schon]\n",
            "[get tom] => [hol tom]\n",
            "[get out] => [raus]\n",
            "[get out] => [geht raus]\n",
            "[get out] => [geh raus]\n",
            "[get out] => [geht raus]\n"
          ],
          "name": "stdout"
        }
      ]
    },
    {
      "cell_type": "code",
      "metadata": {
        "id": "7iKzr4UgjgmJ",
        "colab_type": "code",
        "outputId": "53b766ca-785b-4fd1-dd2b-598121815c74",
        "colab": {
          "base_uri": "https://localhost:8080/",
          "height": 68
        }
      },
      "source": [
        "#to unpickle file and split into training and testing data\n",
        "from pickle import load\n",
        "from pickle import dump\n",
        "from numpy.random import rand\n",
        "from numpy.random import shuffle\n",
        "\n",
        "\n",
        "def load_clean_sentences(filename):\n",
        "\treturn load(open(filename, 'rb'))\n",
        "\n",
        "def save_clean_data(sentences, filename):\n",
        "\tdump(sentences, open(filename, 'wb'))\n",
        "\tprint('Saved: %s' % filename)\n",
        "\n",
        "# load dataset\n",
        "raw_dataset = load_clean_sentences('english-german.pkl')\n",
        "\n",
        "# reduce dataset size\n",
        "n_sentences = 10000\n",
        "dataset = raw_dataset[:n_sentences, :]\n",
        "# random shuffle\n",
        "shuffle(dataset)\n",
        "# split into train/test\n",
        "train, test = dataset[:9000], dataset[9000:]\n",
        "\n",
        "save_clean_data(dataset, 'english-german-both.pkl') #useful to define parameters\n",
        "save_clean_data(train, 'english-german-train.pkl') \n",
        "save_clean_data(test, 'english-german-test.pkl')"
      ],
      "execution_count": 11,
      "outputs": [
        {
          "output_type": "stream",
          "text": [
            "Saved: english-german-both.pkl\n",
            "Saved: english-german-train.pkl\n",
            "Saved: english-german-test.pkl\n"
          ],
          "name": "stdout"
        }
      ]
    },
    {
      "cell_type": "markdown",
      "metadata": {
        "id": "m2yAZPebzSVL",
        "colab_type": "text"
      },
      "source": [
        "## Neural Translation Model"
      ]
    },
    {
      "cell_type": "code",
      "metadata": {
        "id": "2pky9jAUJAxG",
        "colab_type": "code",
        "colab": {
          "base_uri": "https://localhost:8080/",
          "height": 34
        },
        "outputId": "c50eb06d-eca7-421a-cbdf-97de70ba1efc"
      },
      "source": [
        "from pickle import load\n",
        "from numpy import array\n",
        "from keras.preprocessing.text import Tokenizer\n",
        "from keras.preprocessing.sequence import pad_sequences\n",
        "from keras.utils import to_categorical\n",
        "from keras.utils.vis_utils import plot_model\n",
        "from keras.models import Sequential\n",
        "from keras.layers import LSTM\n",
        "\n",
        "from keras.layers import Dense\n",
        "from keras.layers import Embedding\n",
        "from keras.layers import RepeatVector\n",
        "from keras.layers import TimeDistributed\n",
        "from keras.callbacks import ModelCheckpoint"
      ],
      "execution_count": 12,
      "outputs": [
        {
          "output_type": "stream",
          "text": [
            "Using TensorFlow backend.\n"
          ],
          "name": "stderr"
        }
      ]
    },
    {
      "cell_type": "code",
      "metadata": {
        "id": "psV0x6SGjgmN",
        "colab_type": "code",
        "colab": {}
      },
      "source": [
        "def load_clean_data(filename):\n",
        "  return load(open(filename, mode='rb'))\n",
        "\n",
        "ds = load_clean_sentences('english-german-both.pkl') #used to define max sent length and vocabulary\n",
        "train = load_clean_sentences('english-german-train.pkl')\n",
        "test = load_clean_sentences('english-german-test.pkl')"
      ],
      "execution_count": 0,
      "outputs": []
    },
    {
      "cell_type": "code",
      "metadata": {
        "id": "aUIt9GUMjgmR",
        "colab_type": "code",
        "colab": {}
      },
      "source": [
        "# Tokenizer for word to integer mapping\n",
        "# We use separate tokenizer for english and german\n",
        "#function creates a word -> index dictionary\n",
        "def create_tokenizer(lines):\n",
        "  tokenizer = Tokenizer()\n",
        "  tokenizer.fit_on_texts(lines)\n",
        "  return tokenizer\n",
        "\n",
        "\n",
        "#function to obtain length of the longest sequence\n",
        "def max_length(lines):\n",
        "  return max(len(line.split()) for line in lines)\n",
        "  "
      ],
      "execution_count": 0,
      "outputs": []
    },
    {
      "cell_type": "code",
      "metadata": {
        "id": "dNkKv_zIjgmW",
        "colab_type": "code",
        "outputId": "17b5a149-94e5-4001-9ed7-9d242e807d05",
        "colab": {
          "base_uri": "https://localhost:8080/",
          "height": 85
        }
      },
      "source": [
        "# english tokenizer\n",
        "english_tokenizer = create_tokenizer(dataset[:,0])\n",
        "english_vocab_size = len(english_tokenizer.word_index) + 1 # reason for +1 -> reserving index 0 for padding\n",
        "english_max_length = max_length(dataset[:,0])\n",
        "print('English Vocabulary Size: %d ' % english_vocab_size)\n",
        "print('English Max Sequence Length: %d' % english_max_length)\n",
        "# german tokenizer\n",
        "german_tokenizer = create_tokenizer(dataset[:,1])\n",
        "german_vocab_size = len(german_tokenizer.word_index)+1\n",
        "german_max_length = max_length(dataset[:,1])\n",
        "print('German Vocab Size: %d' % german_vocab_size)\n",
        "print('German Max Sequence Length: %d' % german_max_length)"
      ],
      "execution_count": 15,
      "outputs": [
        {
          "output_type": "stream",
          "text": [
            "English Vocabulary Size: 2215 \n",
            "English Max Sequence Length: 5\n",
            "German Vocab Size: 3547\n",
            "German Max Sequence Length: 10\n"
          ],
          "name": "stdout"
        }
      ]
    },
    {
      "cell_type": "code",
      "metadata": {
        "id": "1SgIeZ9yjgmZ",
        "colab_type": "code",
        "colab": {}
      },
      "source": [
        "# map word to integers\n",
        "# pad the sequences\n",
        "# for embedding\n",
        "def encode_sequences(tokenizer, lines, length):\n",
        "  # ecode sequences\n",
        "  X = tokenizer.texts_to_sequences(lines)\n",
        "  # padding sequences with 0 \n",
        "  X = pad_sequences(X, maxlen=length, padding = 'pre')\n",
        "  return X"
      ],
      "execution_count": 0,
      "outputs": []
    },
    {
      "cell_type": "code",
      "metadata": {
        "id": "aOsjrv5Jjgme",
        "colab_type": "code",
        "colab": {}
      },
      "source": [
        "# one-hot encode target sequence\n",
        "def encode_output(sequences, vocab_size):\n",
        "  tarlist = []\n",
        "  for sequence in sequences:\n",
        "    encoded = to_categorical(sequence, num_classes = vocab_size)\n",
        "    tarlist.append(encoded)\n",
        "  y = array(tarlist)\n",
        "  y = y.reshape(sequences.shape[0], sequences.shape[1], vocab_size)\n",
        "  return y"
      ],
      "execution_count": 0,
      "outputs": []
    },
    {
      "cell_type": "code",
      "metadata": {
        "id": "skFoc9U5jgmh",
        "colab_type": "code",
        "colab": {}
      },
      "source": [
        "# training data\n",
        "trainX = encode_sequences(german_tokenizer, train[:,1], german_max_length ) \n",
        "trainY = encode_sequences(english_tokenizer, train[:,0], english_max_length) #(9000, 5)\n",
        "trainY = encode_output(trainY, english_vocab_size) #(900, 5, 2215)\n",
        "# testing data\n",
        "testX = encode_sequences(german_tokenizer, test[:,1], german_max_length)\n",
        "testY = encode_sequences(english_tokenizer, test[:,0], english_max_length) \n",
        "testY = encode_output(testY, english_vocab_size) \n"
      ],
      "execution_count": 0,
      "outputs": []
    },
    {
      "cell_type": "code",
      "metadata": {
        "id": "HDifH3AYjgmq",
        "colab_type": "code",
        "colab": {}
      },
      "source": [
        "# NMT Model\n",
        "def define_model(src_vocab, tar_vocab, src_timesteps, tar_timesteps, n_units):\n",
        "\tmodel = Sequential()\n",
        "\tmodel.add(Embedding(src_vocab, n_units, input_length=src_timesteps, mask_zero=True)) \n",
        "  # treats 0 as a special padding value\n",
        "\tmodel.add(LSTM(n_units, dropout = 0.2, recurrent_dropout = 0.2))\n",
        "\tmodel.add(RepeatVector(tar_timesteps))\n",
        "\tmodel.add(LSTM(n_units, return_sequences=True, dropout = 0.2, recurrent_dropout = 0.2)) \n",
        "  # returns  sequence instead of a vector\n",
        "\tmodel.add(TimeDistributed(Dense(tar_vocab, activation='softmax'))) # wrapper to input a 3d vector\n",
        "\treturn model"
      ],
      "execution_count": 0,
      "outputs": []
    },
    {
      "cell_type": "code",
      "metadata": {
        "id": "lq2r0BFF7dRK",
        "colab_type": "code",
        "outputId": "38796f7e-c3bf-4b2b-e609-b4046aa3ac82",
        "colab": {
          "base_uri": "https://localhost:8080/",
          "height": 1000
        }
      },
      "source": [
        "model = define_model(german_vocab_size, english_vocab_size, german_max_length, english_max_length, 256)\n",
        "model.compile(optimizer='adam', loss='categorical_crossentropy')\n",
        "\n",
        "print(model.summary())\n",
        "plot_model(model, to_file='model.png', show_shapes=True) "
      ],
      "execution_count": 20,
      "outputs": [
        {
          "output_type": "stream",
          "text": [
            "WARNING: Logging before flag parsing goes to stderr.\n",
            "W0903 13:01:15.831676 140004931483520 deprecation_wrapper.py:119] From /usr/local/lib/python3.6/dist-packages/keras/backend/tensorflow_backend.py:66: The name tf.get_default_graph is deprecated. Please use tf.compat.v1.get_default_graph instead.\n",
            "\n",
            "W0903 13:01:15.877263 140004931483520 deprecation_wrapper.py:119] From /usr/local/lib/python3.6/dist-packages/keras/backend/tensorflow_backend.py:541: The name tf.placeholder is deprecated. Please use tf.compat.v1.placeholder instead.\n",
            "\n",
            "W0903 13:01:15.884171 140004931483520 deprecation_wrapper.py:119] From /usr/local/lib/python3.6/dist-packages/keras/backend/tensorflow_backend.py:4432: The name tf.random_uniform is deprecated. Please use tf.random.uniform instead.\n",
            "\n",
            "W0903 13:01:16.115633 140004931483520 deprecation_wrapper.py:119] From /usr/local/lib/python3.6/dist-packages/keras/backend/tensorflow_backend.py:148: The name tf.placeholder_with_default is deprecated. Please use tf.compat.v1.placeholder_with_default instead.\n",
            "\n",
            "W0903 13:01:16.127534 140004931483520 deprecation.py:506] From /usr/local/lib/python3.6/dist-packages/keras/backend/tensorflow_backend.py:3733: calling dropout (from tensorflow.python.ops.nn_ops) with keep_prob is deprecated and will be removed in a future version.\n",
            "Instructions for updating:\n",
            "Please use `rate` instead of `keep_prob`. Rate should be set to `rate = 1 - keep_prob`.\n",
            "W0903 13:01:16.380037 140004931483520 deprecation.py:323] From /usr/local/lib/python3.6/dist-packages/keras/backend/tensorflow_backend.py:3239: add_dispatch_support.<locals>.wrapper (from tensorflow.python.ops.array_ops) is deprecated and will be removed in a future version.\n",
            "Instructions for updating:\n",
            "Use tf.where in 2.0, which has the same broadcast rule as np.where\n",
            "W0903 13:01:16.852783 140004931483520 deprecation_wrapper.py:119] From /usr/local/lib/python3.6/dist-packages/keras/optimizers.py:793: The name tf.train.Optimizer is deprecated. Please use tf.compat.v1.train.Optimizer instead.\n",
            "\n",
            "W0903 13:01:16.876272 140004931483520 deprecation_wrapper.py:119] From /usr/local/lib/python3.6/dist-packages/keras/backend/tensorflow_backend.py:3576: The name tf.log is deprecated. Please use tf.math.log instead.\n",
            "\n"
          ],
          "name": "stderr"
        },
        {
          "output_type": "stream",
          "text": [
            "Model: \"sequential_1\"\n",
            "_________________________________________________________________\n",
            "Layer (type)                 Output Shape              Param #   \n",
            "=================================================================\n",
            "embedding_1 (Embedding)      (None, 10, 256)           908032    \n",
            "_________________________________________________________________\n",
            "lstm_1 (LSTM)                (None, 256)               525312    \n",
            "_________________________________________________________________\n",
            "repeat_vector_1 (RepeatVecto (None, 5, 256)            0         \n",
            "_________________________________________________________________\n",
            "lstm_2 (LSTM)                (None, 5, 256)            525312    \n",
            "_________________________________________________________________\n",
            "time_distributed_1 (TimeDist (None, 5, 2215)           569255    \n",
            "=================================================================\n",
            "Total params: 2,527,911\n",
            "Trainable params: 2,527,911\n",
            "Non-trainable params: 0\n",
            "_________________________________________________________________\n",
            "None\n"
          ],
          "name": "stdout"
        },
        {
          "output_type": "execute_result",
          "data": {
            "image/png": "[encoded data removed]",
            "text/plain": [
              "<IPython.core.display.Image object>"
            ]
          },
          "metadata": {
            "tags": []
          },
          "execution_count": 20
        }
      ]
    },
    {
      "cell_type": "code",
      "metadata": {
        "id": "yVAAKQiejgmu",
        "colab_type": "code",
        "outputId": "839835ea-7233-44e4-9f35-f03e9c021d58",
        "colab": {
          "base_uri": "https://localhost:8080/",
          "height": 1000
        }
      },
      "source": [
        "filename = 'model.h5' \n",
        "# hierarchical data format 5\n",
        "checkpoint = ModelCheckpoint(filename, monitor='val_loss', verbose=1, save_best_only=True, mode='min') \n",
        "# saves model after each epoch\n",
        "model.fit(trainX, trainY, epochs=50, batch_size= 64, validation_data=(testX, testY), callbacks=[checkpoint], verbose=2) "
      ],
      "execution_count": 21,
      "outputs": [
        {
          "output_type": "stream",
          "text": [
            "Train on 9000 samples, validate on 1000 samples\n",
            "Epoch 1/50\n",
            " - 34s - loss: 4.3680 - val_loss: 3.5556\n",
            "\n",
            "Epoch 00001: val_loss improved from inf to 3.55565, saving model to model.h5\n",
            "Epoch 2/50\n",
            " - 32s - loss: 3.4075 - val_loss: 3.4366\n",
            "\n",
            "Epoch 00002: val_loss improved from 3.55565 to 3.43662, saving model to model.h5\n",
            "Epoch 3/50\n",
            " - 31s - loss: 3.2588 - val_loss: 3.3166\n",
            "\n",
            "Epoch 00003: val_loss improved from 3.43662 to 3.31660, saving model to model.h5\n",
            "Epoch 4/50\n",
            " - 31s - loss: 3.1235 - val_loss: 3.2657\n",
            "\n",
            "Epoch 00004: val_loss improved from 3.31660 to 3.26573, saving model to model.h5\n",
            "Epoch 5/50\n",
            " - 32s - loss: 3.0070 - val_loss: 3.1145\n",
            "\n",
            "Epoch 00005: val_loss improved from 3.26573 to 3.11454, saving model to model.h5\n",
            "Epoch 6/50\n",
            " - 32s - loss: 2.8538 - val_loss: 3.0011\n",
            "\n",
            "Epoch 00006: val_loss improved from 3.11454 to 3.00106, saving model to model.h5\n",
            "Epoch 7/50\n",
            " - 31s - loss: 2.7199 - val_loss: 2.8997\n",
            "\n",
            "Epoch 00007: val_loss improved from 3.00106 to 2.89972, saving model to model.h5\n",
            "Epoch 8/50\n",
            " - 32s - loss: 2.6148 - val_loss: 2.8386\n",
            "\n",
            "Epoch 00008: val_loss improved from 2.89972 to 2.83858, saving model to model.h5\n",
            "Epoch 9/50\n",
            " - 32s - loss: 2.5126 - val_loss: 2.7891\n",
            "\n",
            "Epoch 00009: val_loss improved from 2.83858 to 2.78908, saving model to model.h5\n",
            "Epoch 10/50\n",
            " - 32s - loss: 2.4233 - val_loss: 2.7212\n",
            "\n",
            "Epoch 00010: val_loss improved from 2.78908 to 2.72121, saving model to model.h5\n",
            "Epoch 11/50\n",
            " - 32s - loss: 2.3311 - val_loss: 2.6724\n",
            "\n",
            "Epoch 00011: val_loss improved from 2.72121 to 2.67239, saving model to model.h5\n",
            "Epoch 12/50\n",
            " - 33s - loss: 2.2424 - val_loss: 2.6095\n",
            "\n",
            "Epoch 00012: val_loss improved from 2.67239 to 2.60950, saving model to model.h5\n",
            "Epoch 13/50\n",
            " - 32s - loss: 2.1501 - val_loss: 2.5528\n",
            "\n",
            "Epoch 00013: val_loss improved from 2.60950 to 2.55281, saving model to model.h5\n",
            "Epoch 14/50\n",
            " - 32s - loss: 2.0601 - val_loss: 2.4953\n",
            "\n",
            "Epoch 00014: val_loss improved from 2.55281 to 2.49531, saving model to model.h5\n",
            "Epoch 15/50\n",
            " - 32s - loss: 1.9746 - val_loss: 2.4622\n",
            "\n",
            "Epoch 00015: val_loss improved from 2.49531 to 2.46222, saving model to model.h5\n",
            "Epoch 16/50\n",
            " - 32s - loss: 1.8898 - val_loss: 2.3951\n",
            "\n",
            "Epoch 00016: val_loss improved from 2.46222 to 2.39509, saving model to model.h5\n",
            "Epoch 17/50\n",
            " - 32s - loss: 1.8053 - val_loss: 2.3572\n",
            "\n",
            "Epoch 00017: val_loss improved from 2.39509 to 2.35719, saving model to model.h5\n",
            "Epoch 18/50\n",
            " - 32s - loss: 1.7211 - val_loss: 2.3169\n",
            "\n",
            "Epoch 00018: val_loss improved from 2.35719 to 2.31694, saving model to model.h5\n",
            "Epoch 19/50\n",
            " - 32s - loss: 1.6416 - val_loss: 2.2654\n",
            "\n",
            "Epoch 00019: val_loss improved from 2.31694 to 2.26539, saving model to model.h5\n",
            "Epoch 20/50\n",
            " - 32s - loss: 1.5646 - val_loss: 2.2326\n",
            "\n",
            "Epoch 00020: val_loss improved from 2.26539 to 2.23265, saving model to model.h5\n",
            "Epoch 21/50\n",
            " - 32s - loss: 1.4900 - val_loss: 2.2056\n",
            "\n",
            "Epoch 00021: val_loss improved from 2.23265 to 2.20556, saving model to model.h5\n",
            "Epoch 22/50\n",
            " - 32s - loss: 1.4193 - val_loss: 2.1608\n",
            "\n",
            "Epoch 00022: val_loss improved from 2.20556 to 2.16083, saving model to model.h5\n",
            "Epoch 23/50\n",
            " - 32s - loss: 1.3504 - val_loss: 2.1296\n",
            "\n",
            "Epoch 00023: val_loss improved from 2.16083 to 2.12963, saving model to model.h5\n",
            "Epoch 24/50\n",
            " - 32s - loss: 1.2795 - val_loss: 2.0984\n",
            "\n",
            "Epoch 00024: val_loss improved from 2.12963 to 2.09841, saving model to model.h5\n",
            "Epoch 25/50\n",
            " - 32s - loss: 1.2125 - val_loss: 2.0746\n",
            "\n",
            "Epoch 00025: val_loss improved from 2.09841 to 2.07457, saving model to model.h5\n",
            "Epoch 26/50\n",
            " - 32s - loss: 1.1487 - val_loss: 2.0332\n",
            "\n",
            "Epoch 00026: val_loss improved from 2.07457 to 2.03316, saving model to model.h5\n",
            "Epoch 27/50\n",
            " - 32s - loss: 1.0887 - val_loss: 2.0217\n",
            "\n",
            "Epoch 00027: val_loss improved from 2.03316 to 2.02171, saving model to model.h5\n",
            "Epoch 28/50\n",
            " - 31s - loss: 1.0297 - val_loss: 2.0076\n",
            "\n",
            "Epoch 00028: val_loss improved from 2.02171 to 2.00763, saving model to model.h5\n",
            "Epoch 29/50\n",
            " - 32s - loss: 0.9763 - val_loss: 1.9765\n",
            "\n",
            "Epoch 00029: val_loss improved from 2.00763 to 1.97651, saving model to model.h5\n",
            "Epoch 30/50\n",
            " - 31s - loss: 0.9167 - val_loss: 1.9569\n",
            "\n",
            "Epoch 00030: val_loss improved from 1.97651 to 1.95689, saving model to model.h5\n",
            "Epoch 31/50\n",
            " - 32s - loss: 0.8684 - val_loss: 1.9311\n",
            "\n",
            "Epoch 00031: val_loss improved from 1.95689 to 1.93107, saving model to model.h5\n",
            "Epoch 32/50\n",
            " - 31s - loss: 0.8207 - val_loss: 1.9197\n",
            "\n",
            "Epoch 00032: val_loss improved from 1.93107 to 1.91970, saving model to model.h5\n",
            "Epoch 33/50\n",
            " - 31s - loss: 0.7704 - val_loss: 1.8971\n",
            "\n",
            "Epoch 00033: val_loss improved from 1.91970 to 1.89709, saving model to model.h5\n",
            "Epoch 34/50\n",
            " - 31s - loss: 0.7271 - val_loss: 1.8845\n",
            "\n",
            "Epoch 00034: val_loss improved from 1.89709 to 1.88450, saving model to model.h5\n",
            "Epoch 35/50\n",
            " - 31s - loss: 0.6855 - val_loss: 1.8817\n",
            "\n",
            "Epoch 00035: val_loss improved from 1.88450 to 1.88169, saving model to model.h5\n",
            "Epoch 36/50\n",
            " - 31s - loss: 0.6469 - val_loss: 1.8722\n",
            "\n",
            "Epoch 00036: val_loss improved from 1.88169 to 1.87218, saving model to model.h5\n",
            "Epoch 37/50\n",
            " - 31s - loss: 0.6112 - val_loss: 1.8554\n",
            "\n",
            "Epoch 00037: val_loss improved from 1.87218 to 1.85544, saving model to model.h5\n",
            "Epoch 38/50\n",
            " - 31s - loss: 0.5768 - val_loss: 1.8627\n",
            "\n",
            "Epoch 00038: val_loss did not improve from 1.85544\n",
            "Epoch 39/50\n",
            " - 31s - loss: 0.5482 - val_loss: 1.8376\n",
            "\n",
            "Epoch 00039: val_loss improved from 1.85544 to 1.83756, saving model to model.h5\n",
            "Epoch 40/50\n",
            " - 31s - loss: 0.5183 - val_loss: 1.8367\n",
            "\n",
            "Epoch 00040: val_loss improved from 1.83756 to 1.83674, saving model to model.h5\n",
            "Epoch 41/50\n",
            " - 31s - loss: 0.4905 - val_loss: 1.8361\n",
            "\n",
            "Epoch 00041: val_loss improved from 1.83674 to 1.83615, saving model to model.h5\n",
            "Epoch 42/50\n",
            " - 31s - loss: 0.4641 - val_loss: 1.8285\n",
            "\n",
            "Epoch 00042: val_loss improved from 1.83615 to 1.82847, saving model to model.h5\n",
            "Epoch 43/50\n",
            " - 31s - loss: 0.4438 - val_loss: 1.8351\n",
            "\n",
            "Epoch 00043: val_loss did not improve from 1.82847\n",
            "Epoch 44/50\n",
            " - 31s - loss: 0.4184 - val_loss: 1.8242\n",
            "\n",
            "Epoch 00044: val_loss improved from 1.82847 to 1.82421, saving model to model.h5\n",
            "Epoch 45/50\n",
            " - 31s - loss: 0.3979 - val_loss: 1.8179\n",
            "\n",
            "Epoch 00045: val_loss improved from 1.82421 to 1.81789, saving model to model.h5\n",
            "Epoch 46/50\n",
            " - 31s - loss: 0.3795 - val_loss: 1.8049\n",
            "\n",
            "Epoch 00046: val_loss improved from 1.81789 to 1.80488, saving model to model.h5\n",
            "Epoch 47/50\n",
            " - 31s - loss: 0.3636 - val_loss: 1.8033\n",
            "\n",
            "Epoch 00047: val_loss improved from 1.80488 to 1.80333, saving model to model.h5\n",
            "Epoch 48/50\n",
            " - 31s - loss: 0.3455 - val_loss: 1.8233\n",
            "\n",
            "Epoch 00048: val_loss did not improve from 1.80333\n",
            "Epoch 49/50\n",
            " - 32s - loss: 0.3320 - val_loss: 1.8042\n",
            "\n",
            "Epoch 00049: val_loss did not improve from 1.80333\n",
            "Epoch 50/50\n",
            " - 32s - loss: 0.3127 - val_loss: 1.8114\n",
            "\n",
            "Epoch 00050: val_loss did not improve from 1.80333\n"
          ],
          "name": "stdout"
        },
        {
          "output_type": "execute_result",
          "data": {
            "text/plain": [
              "<keras.callbacks.History at 0x7f552ef13668>"
            ]
          },
          "metadata": {
            "tags": []
          },
          "execution_count": 21
        }
      ]
    },
    {
      "cell_type": "markdown",
      "metadata": {
        "id": "xMNDYuDX_G5m",
        "colab_type": "text"
      },
      "source": [
        "## Evaluating the Model"
      ]
    },
    {
      "cell_type": "code",
      "metadata": {
        "id": "EkCkdlNXNIvu",
        "colab_type": "code",
        "colab": {}
      },
      "source": [
        "from nltk.translate.bleu_score import corpus_bleu"
      ],
      "execution_count": 0,
      "outputs": []
    },
    {
      "cell_type": "code",
      "metadata": {
        "id": "KzM8mjnu_eh-",
        "colab_type": "code",
        "colab": {}
      },
      "source": [
        "# function to map an integer to word\n",
        "def word_for_int(integer, tokenizer):\n",
        "  for word, num in tokenizer.word_index.items():\n",
        "    if integer == num:\n",
        "      return word\n",
        "  return None\n",
        "  "
      ],
      "execution_count": 0,
      "outputs": []
    },
    {
      "cell_type": "code",
      "metadata": {
        "id": "cgqO40ytBETe",
        "colab_type": "code",
        "colab": {}
      },
      "source": [
        "# function to give uus the translated squence\n",
        "def predict_seq(model, tokenizer, source):\n",
        "  prediction = model.predict(source, verbose = 0)[0]\n",
        "  tokens = [argmax(vector) for vector in prediction] \n",
        "  target = []\n",
        "  for i in tokens:\n",
        "    word = word_for_int(i, tokenizer)\n",
        "    if word is None:\n",
        "      continue\n",
        "    target.append(word)\n",
        "  return ' '. join(target)\n",
        "  "
      ],
      "execution_count": 0,
      "outputs": []
    },
    {
      "cell_type": "code",
      "metadata": {
        "id": "Y7TcGlyOFhbo",
        "colab_type": "code",
        "colab": {}
      },
      "source": [
        "def evaluate_model(model, source_doc, tokenizer, raw_ds):\n",
        "  reference, prediction = [], []\n",
        "  for i, source in enumerate(source_doc):\n",
        "    source = source.reshape(1, source.shape[0])\n",
        "    translation = predict_seq(model, english_tokenizer, source) \n",
        "    tar_seq, src_seq = raw_ds[i]\n",
        "    if i<10:\n",
        "      print('source => [%s], target => [%s], predicted => [%s]' % (src_seq, tar_seq, translation))\n",
        "    reference.append([tar_seq.split()]) \n",
        "    # reference must be a list \n",
        "    # of doc for evaluation\n",
        "    prediction.append(translation.split())\n",
        "    # Calculate BLEU score for\n",
        "    # automatic evaluation of MT\n",
        "    # perfect match score : 1\n",
        "    # mismatch score : 0\n",
        "  print('BLEU-1: %f' % corpus_bleu(reference, prediction, weights = (1.0, 0, 0, 0))) # cumulative \n",
        "  print('BLEU-2: %f' % corpus_bleu(reference, prediction, weights = (0.5, 0.5, 0, 0)))\n",
        "  print('BLEU-3: %f' % corpus_bleu(reference, prediction, weights = (0.33, 0.33, 0.33, 0)))\n",
        "  print('BLEU-4: %f' % corpus_bleu(reference, prediction, weights = (0.25, 0.25, 0.25, 0.25)))\n",
        "    \n",
        "    "
      ],
      "execution_count": 0,
      "outputs": []
    },
    {
      "cell_type": "code",
      "metadata": {
        "id": "jowTgpuULvye",
        "colab_type": "code",
        "colab": {
          "base_uri": "https://localhost:8080/",
          "height": 527
        },
        "outputId": "8680a77f-d126-4a86-c220-526cece778fd"
      },
      "source": [
        "print('Evaluating Training dataset...')\n",
        "evaluate_model(model, trainX, english_tokenizer, train)\n",
        "print('Evaluating Testing dataset...')\n",
        "evaluate_model(model, testX, english_tokenizer, test)"
      ],
      "execution_count": 35,
      "outputs": [
        {
          "output_type": "stream",
          "text": [
            "Evaluating Training dataset...\n",
            "source => [tom half], target => [tom helped], predicted => [tom helped]\n",
            "source => [ich war zu schuchtern], target => [i was too shy], predicted => [i was too shy]\n",
            "source => [ich brauche zeit], target => [i want time], predicted => [i want time]\n",
            "source => [ich stecke fest], target => [im stuck], predicted => [im stuck]\n",
            "source => [kannst dus nicht], target => [cant you do it], predicted => [cant you do it]\n",
            "source => [ich werde mit dem auto fahren], target => [ill go by car], predicted => [ill go by car]\n",
            "source => [wozu ist es gut], target => [what is it for], predicted => [is it for]\n",
            "source => [warum jetzt aufgeben], target => [why quit now], predicted => [why quit now]\n",
            "source => [machs morgen], target => [do it tomorrow], predicted => [do it tomorrow]\n",
            "source => [ich wei das], target => [i know this], predicted => [i know this]\n",
            "BLEU-1: 0.927685\n",
            "BLEU-2: 0.895653\n",
            "BLEU-3: 0.795860\n",
            "BLEU-4: 0.497123\n",
            "Evaluating Testing dataset...\n",
            "source => [tom war gescheit], target => [tom was bright], predicted => [tom was lucky]\n",
            "source => [tom braucht sie], target => [tom needs you], predicted => [tom needs you]\n",
            "source => [zahl bis zehn], target => [count to ten], predicted => [my an father]\n",
            "source => [zeig es mir], target => [show it to me], predicted => [show it to me]\n",
            "source => [was fur ein ego], target => [what an ego], predicted => [what a loss]\n",
            "source => [ich fuhle mich schuldig], target => [i feel guilty], predicted => [im plead guilty]\n",
            "source => [wer sieht zu], target => [whos watching], predicted => [who welcome]\n",
            "source => [tom hat es gestarted], target => [tom started it], predicted => [tom rewrote it]\n",
            "source => [wie fuhlst du dich], target => [how do you feel], predicted => [how do you you]\n",
            "source => [du brauchst hilfe], target => [you need help], predicted => [you need help]\n",
            "BLEU-1: 0.600594\n",
            "BLEU-2: 0.483965\n",
            "BLEU-3: 0.375428\n",
            "BLEU-4: 0.213776\n"
          ],
          "name": "stdout"
        }
      ]
    },
    {
      "cell_type": "code",
      "metadata": {
        "id": "SMUANSaPQRcm",
        "colab_type": "code",
        "colab": {}
      },
      "source": [
        ""
      ],
      "execution_count": 0,
      "outputs": []
    },
    {
      "cell_type": "code",
      "metadata": {
        "id": "JhIYVpjiRRCT",
        "colab_type": "code",
        "colab": {}
      },
      "source": [
        ""
      ],
      "execution_count": 0,
      "outputs": []
    },
    {
      "cell_type": "code",
      "metadata": {
        "id": "VZ-vR3QAQTYe",
        "colab_type": "code",
        "colab": {}
      },
      "source": [
        ""
      ],
      "execution_count": 0,
      "outputs": []
    }
  ]
}